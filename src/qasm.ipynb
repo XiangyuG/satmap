{
 "cells": [
  {
   "cell_type": "code",
   "execution_count": 2,
   "metadata": {},
   "outputs": [],
   "source": [
    "from qiskit import QuantumCircuit"
   ]
  },
  {
   "cell_type": "markdown",
   "metadata": {},
   "source": [
    "# TODO: N = 2 - 15"
   ]
  },
  {
   "cell_type": "code",
   "execution_count": 2,
   "metadata": {},
   "outputs": [
    {
     "data": {
      "text/html": [
       "<pre style=\"word-wrap: normal;white-space: pre;background: #fff0;line-height: 1.1;font-family: &quot;Courier New&quot;,Courier,monospace\">     ┌───┐          \n",
       "q_0: ┤ H ├──■───────\n",
       "     └───┘┌─┴─┐┌───┐\n",
       "q_1: ─────┤ X ├┤ H ├\n",
       "          └───┘└───┘</pre>"
      ],
      "text/plain": [
       "     ┌───┐          \n",
       "q_0: ┤ H ├──■───────\n",
       "     └───┘┌─┴─┐┌───┐\n",
       "q_1: ─────┤ X ├┤ H ├\n",
       "          └───┘└───┘"
      ]
     },
     "execution_count": 2,
     "metadata": {},
     "output_type": "execute_result"
    }
   ],
   "source": [
    "# N = 2\n",
    "N = 2\n",
    "qc = QuantumCircuit(N)\n",
    "qc.h(0)\n",
    "qc.cx(0,1)\n",
    "qc.h(1)\n",
    "qc.draw()"
   ]
  },
  {
   "cell_type": "code",
   "execution_count": 4,
   "metadata": {},
   "outputs": [
    {
     "data": {
      "text/html": [
       "<pre style=\"word-wrap: normal;white-space: pre;background: #fff0;line-height: 1.1;font-family: &quot;Courier New&quot;,Courier,monospace\">     ┌───┐                         \n",
       "q_0: ┤ H ├──■────■─────────────────\n",
       "     └───┘┌─┴─┐  │  ┌───┐          \n",
       "q_1: ─────┤ X ├──┼──┤ H ├──■───────\n",
       "          └───┘┌─┴─┐└───┘┌─┴─┐┌───┐\n",
       "q_2: ──────────┤ X ├─────┤ X ├┤ H ├\n",
       "               └───┘     └───┘└───┘</pre>"
      ],
      "text/plain": [
       "     ┌───┐                         \n",
       "q_0: ┤ H ├──■────■─────────────────\n",
       "     └───┘┌─┴─┐  │  ┌───┐          \n",
       "q_1: ─────┤ X ├──┼──┤ H ├──■───────\n",
       "          └───┘┌─┴─┐└───┘┌─┴─┐┌───┐\n",
       "q_2: ──────────┤ X ├─────┤ X ├┤ H ├\n",
       "               └───┘     └───┘└───┘"
      ]
     },
     "execution_count": 4,
     "metadata": {},
     "output_type": "execute_result"
    }
   ],
   "source": [
    "# N = 3\n",
    "N = 3\n",
    "qc = QuantumCircuit(N)\n",
    "qc.h(0)\n",
    "qc.cx(0,1)\n",
    "qc.cx(0,2)\n",
    "qc.h(1)\n",
    "qc.cx(1,2)\n",
    "qc.h(2)\n",
    "qc.draw()"
   ]
  },
  {
   "cell_type": "code",
   "execution_count": 6,
   "metadata": {},
   "outputs": [
    {
     "data": {
      "text/html": [
       "<pre style=\"word-wrap: normal;white-space: pre;background: #fff0;line-height: 1.1;font-family: &quot;Courier New&quot;,Courier,monospace\">     ┌───┐                                             \n",
       "q_0: ┤ H ├──■────■─────────■───────────────────────────\n",
       "     └───┘┌─┴─┐  │  ┌───┐  │                           \n",
       "q_1: ─────┤ X ├──┼──┤ H ├──┼────■────■─────────────────\n",
       "          └───┘┌─┴─┐└───┘  │  ┌─┴─┐  │  ┌───┐          \n",
       "q_2: ──────────┤ X ├───────┼──┤ X ├──┼──┤ H ├──■───────\n",
       "               └───┘     ┌─┴─┐└───┘┌─┴─┐└───┘┌─┴─┐┌───┐\n",
       "q_3: ────────────────────┤ X ├─────┤ X ├─────┤ X ├┤ H ├\n",
       "                         └───┘     └───┘     └───┘└───┘</pre>"
      ],
      "text/plain": [
       "     ┌───┐                                             \n",
       "q_0: ┤ H ├──■────■─────────■───────────────────────────\n",
       "     └───┘┌─┴─┐  │  ┌───┐  │                           \n",
       "q_1: ─────┤ X ├──┼──┤ H ├──┼────■────■─────────────────\n",
       "          └───┘┌─┴─┐└───┘  │  ┌─┴─┐  │  ┌───┐          \n",
       "q_2: ──────────┤ X ├───────┼──┤ X ├──┼──┤ H ├──■───────\n",
       "               └───┘     ┌─┴─┐└───┘┌─┴─┐└───┘┌─┴─┐┌───┐\n",
       "q_3: ────────────────────┤ X ├─────┤ X ├─────┤ X ├┤ H ├\n",
       "                         └───┘     └───┘     └───┘└───┘"
      ]
     },
     "execution_count": 6,
     "metadata": {},
     "output_type": "execute_result"
    }
   ],
   "source": [
    "# N = 4\n",
    "N = 4\n",
    "qc = QuantumCircuit(N)\n",
    "qc.h(0)\n",
    "qc.cx(0,1)\n",
    "qc.cx(0,2)\n",
    "qc.cx(0,3)\n",
    "qc.h(1)\n",
    "qc.cx(1,2)\n",
    "qc.cx(1,3)\n",
    "qc.h(2)\n",
    "qc.cx(2,3)\n",
    "qc.h(3)\n",
    "qc.draw()"
   ]
  },
  {
   "cell_type": "code",
   "execution_count": 3,
   "metadata": {},
   "outputs": [
    {
     "data": {
      "text/html": [
       "<pre style=\"word-wrap: normal;white-space: pre;background: #fff0;line-height: 1.1;font-family: &quot;Courier New&quot;,Courier,monospace\">     ┌───┐                                                                 »\n",
       "q_0: ┤ H ├──■────■─────────■─────────■─────────────────────────────────────»\n",
       "     └───┘┌─┴─┐  │  ┌───┐  │         │                                     »\n",
       "q_1: ─────┤ X ├──┼──┤ H ├──┼────■────┼────■─────────■──────────────────────»\n",
       "          └───┘┌─┴─┐└───┘  │  ┌─┴─┐  │    │  ┌───┐  │                      »\n",
       "q_2: ──────────┤ X ├───────┼──┤ X ├──┼────┼──┤ H ├──┼────■────■────────────»\n",
       "               └───┘     ┌─┴─┐└───┘  │  ┌─┴─┐└───┘  │  ┌─┴─┐  │  ┌───┐     »\n",
       "q_3: ────────────────────┤ X ├───────┼──┤ X ├───────┼──┤ X ├──┼──┤ H ├──■──»\n",
       "                         └───┘     ┌─┴─┐└───┘     ┌─┴─┐└───┘┌─┴─┐└───┘┌─┴─┐»\n",
       "q_4: ──────────────────────────────┤ X ├──────────┤ X ├─────┤ X ├─────┤ X ├»\n",
       "                                   └───┘          └───┘     └───┘     └───┘»\n",
       "«          \n",
       "«q_0: ─────\n",
       "«          \n",
       "«q_1: ─────\n",
       "«          \n",
       "«q_2: ─────\n",
       "«          \n",
       "«q_3: ─────\n",
       "«     ┌───┐\n",
       "«q_4: ┤ H ├\n",
       "«     └───┘</pre>"
      ],
      "text/plain": [
       "     ┌───┐                                                                 »\n",
       "q_0: ┤ H ├──■────■─────────■─────────■─────────────────────────────────────»\n",
       "     └───┘┌─┴─┐  │  ┌───┐  │         │                                     »\n",
       "q_1: ─────┤ X ├──┼──┤ H ├──┼────■────┼────■─────────■──────────────────────»\n",
       "          └───┘┌─┴─┐└───┘  │  ┌─┴─┐  │    │  ┌───┐  │                      »\n",
       "q_2: ──────────┤ X ├───────┼──┤ X ├──┼────┼──┤ H ├──┼────■────■────────────»\n",
       "               └───┘     ┌─┴─┐└───┘  │  ┌─┴─┐└───┘  │  ┌─┴─┐  │  ┌───┐     »\n",
       "q_3: ────────────────────┤ X ├───────┼──┤ X ├───────┼──┤ X ├──┼──┤ H ├──■──»\n",
       "                         └───┘     ┌─┴─┐└───┘     ┌─┴─┐└───┘┌─┴─┐└───┘┌─┴─┐»\n",
       "q_4: ──────────────────────────────┤ X ├──────────┤ X ├─────┤ X ├─────┤ X ├»\n",
       "                                   └───┘          └───┘     └───┘     └───┘»\n",
       "«          \n",
       "«q_0: ─────\n",
       "«          \n",
       "«q_1: ─────\n",
       "«          \n",
       "«q_2: ─────\n",
       "«          \n",
       "«q_3: ─────\n",
       "«     ┌───┐\n",
       "«q_4: ┤ H ├\n",
       "«     └───┘"
      ]
     },
     "execution_count": 3,
     "metadata": {},
     "output_type": "execute_result"
    }
   ],
   "source": [
    "N =  5\n",
    "qc = QuantumCircuit(N)\n",
    "qc.h( 0 )\n",
    "qc.cx( 0 , 1 )\n",
    "qc.cx( 0 , 2 )\n",
    "qc.cx( 0 , 3 )\n",
    "qc.cx( 0 , 4 )\n",
    "qc.h( 1 )\n",
    "qc.cx( 1 , 2 )\n",
    "qc.cx( 1 , 3 )\n",
    "qc.cx( 1 , 4 )\n",
    "qc.h( 2 )\n",
    "qc.cx( 2 , 3 )\n",
    "qc.cx( 2 , 4 )\n",
    "qc.h( 3 )\n",
    "qc.cx( 3 , 4 )\n",
    "qc.h( 4 )\n",
    "qc.draw()"
   ]
  },
  {
   "cell_type": "code",
   "execution_count": 3,
   "metadata": {},
   "outputs": [
    {
     "name": "stdout",
     "output_type": "stream",
     "text": [
      "OPENQASM 2.0;\n",
      "include \"qelib1.inc\";\n",
      "qreg q[2];\n",
      "h q[0];\n",
      "cx q[0],q[1];\n",
      "h q[1];\n",
      "\n"
     ]
    }
   ],
   "source": [
    "print(qc.qasm())"
   ]
  }
 ],
 "metadata": {
  "kernelspec": {
   "display_name": "Python 3",
   "language": "python",
   "name": "python3"
  },
  "language_info": {
   "codemirror_mode": {
    "name": "ipython",
    "version": 3
   },
   "file_extension": ".py",
   "mimetype": "text/x-python",
   "name": "python",
   "nbconvert_exporter": "python",
   "pygments_lexer": "ipython3",
   "version": "3.10.8"
  }
 },
 "nbformat": 4,
 "nbformat_minor": 2
}
